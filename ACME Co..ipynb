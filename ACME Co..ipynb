{
 "cells": [
  {
   "cell_type": "code",
   "execution_count": 47,
   "metadata": {},
   "outputs": [],
   "source": [
    "import psycopg2\n",
    "from password import password"
   ]
  },
  {
   "cell_type": "code",
   "execution_count": 48,
   "metadata": {},
   "outputs": [],
   "source": [
    "password = password"
   ]
  },
  {
   "cell_type": "code",
   "execution_count": 49,
   "metadata": {},
   "outputs": [],
   "source": [
    "def connect_and_make_cursor(host, dbname, user, password):\n",
    "    \"\"\"host = IP of host service\n",
    "    dbname = database which to connect to\n",
    "    user = username\n",
    "    password = password associated with username\"\"\"\n",
    "    \n",
    "    try:\n",
    "        conn = psycopg2.connect(f\"host = {host}, dbname = {dbname} user = {user} password = {password}\")\n",
    "        conn.set_session(autocommit = True)\n",
    "        cur = conn.cursor()\n",
    "    except psycopg2.Error as e:\n",
    "        print(e)\n",
    "    return conn, cur"
   ]
  },
  {
   "cell_type": "code",
   "execution_count": 50,
   "metadata": {},
   "outputs": [],
   "source": [
    "conn, cur = connect_and_make_cursor('127.0.0.1', 'postgres', 'postgres', password)"
   ]
  },
  {
   "cell_type": "markdown",
   "metadata": {},
   "source": [
    "# CREATE DATABASE"
   ]
  },
  {
   "cell_type": "code",
   "execution_count": 51,
   "metadata": {},
   "outputs": [],
   "source": [
    "cur.execute(\"CREATE DATABASE acme_co\")"
   ]
  },
  {
   "cell_type": "code",
   "execution_count": 52,
   "metadata": {},
   "outputs": [],
   "source": [
    "def close_connection():\n",
    "    \"\"\"closes both cursor and connection in that order\"\"\"\n",
    "    \n",
    "    cur.close()\n",
    "    conn.close()"
   ]
  },
  {
   "cell_type": "code",
   "execution_count": 53,
   "metadata": {},
   "outputs": [],
   "source": [
    "close_connection()"
   ]
  },
  {
   "cell_type": "code",
   "execution_count": 54,
   "metadata": {},
   "outputs": [],
   "source": [
    "conn, cur = connect_and_make_cursor('127.0.0.1', 'acme_co', 'postgres', password)"
   ]
  },
  {
   "cell_type": "markdown",
   "metadata": {},
   "source": [
    "# CREATE TABLES"
   ]
  },
  {
   "cell_type": "code",
   "execution_count": 55,
   "metadata": {},
   "outputs": [],
   "source": [
    "def create_table(table_name):\n",
    "    \"\"\"table_name = name of the table which you like to create\"\"\"\n",
    "    try:\n",
    "        cur.execute(f\"CREATE TABLE IF NOT EXISTS {table_name} ();\")\n",
    "    except psycopg2.Error as e:\n",
    "        print(e)"
   ]
  },
  {
   "cell_type": "code",
   "execution_count": 56,
   "metadata": {},
   "outputs": [],
   "source": [
    "tables = ['employee', 'sales_dept', 'it_dept', 'customers', 'inventory', 'sales']\n",
    "\n",
    "for table in tables:\n",
    "    create_table(table)"
   ]
  },
  {
   "cell_type": "code",
   "execution_count": 57,
   "metadata": {},
   "outputs": [],
   "source": [
    "employee_cols = {'emp_id' : 'SERIAL PRIMARY KEY', 'first_name': 'varchar', 'last_name': 'varchar', 'position': 'varchar', 'start_date': 'DATE DEFAULT CURRENT_DATE', 'phone': 'varchar', 'email': 'varchar'}"
   ]
  },
  {
   "cell_type": "code",
   "execution_count": 58,
   "metadata": {},
   "outputs": [],
   "source": [
    "def insert_columns(table_name, col_type_dict):\n",
    "    \"\"\" table_name = Name of Table to insert columns\n",
    "        col_type_dict = Dictionary containing key value pairs of column name : column type\"\"\"\n",
    "    try:\n",
    "        for col_name, type_ in col_type_dict.items():\n",
    "            cur.execute(f\"ALTER TABLE {table_name} \\\n",
    "                        ADD COLUMN IF NOT EXISTS {col_name} {type_};\")\n",
    "    except psycopg2.Error as e:\n",
    "        print(e)"
   ]
  },
  {
   "cell_type": "code",
   "execution_count": 59,
   "metadata": {},
   "outputs": [],
   "source": [
    "insert_columns('employee', employee_cols)"
   ]
  },
  {
   "cell_type": "code",
   "execution_count": 60,
   "metadata": {},
   "outputs": [],
   "source": [
    "def get_column_names(table_name):\n",
    "    \"\"\"returns column names of a specific table\"\"\"\n",
    "    \n",
    "    try:\n",
    "        cur.execute(f\"select column_name, data_type, character_maximum_length \\\n",
    "        from INFORMATION_SCHEMA.COLUMNS where table_name = '{table_name}';\")\n",
    "    except psycopg2.Error as e:\n",
    "        print(e)\n",
    "        \n",
    "    return cur.fetchall()"
   ]
  },
  {
   "cell_type": "code",
   "execution_count": 61,
   "metadata": {},
   "outputs": [
    {
     "data": {
      "text/plain": [
       "[('emp_id', 'integer', None),\n",
       " ('first_name', 'character varying', None),\n",
       " ('last_name', 'character varying', None),\n",
       " ('position', 'character varying', None),\n",
       " ('start_date', 'date', None),\n",
       " ('phone', 'character varying', None),\n",
       " ('email', 'character varying', None)]"
      ]
     },
     "execution_count": 61,
     "metadata": {},
     "output_type": "execute_result"
    }
   ],
   "source": [
    "get_column_names('employee')"
   ]
  },
  {
   "cell_type": "code",
   "execution_count": 62,
   "metadata": {},
   "outputs": [],
   "source": [
    "def insert_rows(table_name, cols, data):\n",
    "    \"\"\"table_name = table which to insert rows into\n",
    "    cols = list of columns which will recieve the data. Expects string in format \"(col1, col2, col3, coln)\"\n",
    "    data = the actual data which you will like to insert into each row contained in tuple\"\"\"\n",
    "    \n",
    "    count = len(data)\n",
    "    query = f\"INSERT INTO {table_name} {cols} \\\n",
    "                    VALUES (\" + \"%s,\"*count  + \")\"\n",
    "    query = query[::-1].replace(',', '', 1)\n",
    "    query = query[::-1]\n",
    "    try:\n",
    "        cur.execute(query, data)\n",
    "    except psycopg2.Error as e:\n",
    "        print(e)"
   ]
  },
  {
   "cell_type": "code",
   "execution_count": 63,
   "metadata": {},
   "outputs": [],
   "source": [
    "employee_list = [('Bob', 'Smith', 'President', '510-123-4567', 'bob_smith@acme.com'),\n",
    "                ('Jane', 'Smith', 'Vice President', '510-123-4537', 'jane_smith@acme.com'),\n",
    "                ('Tom', 'Harper', 'Developer', '510-123-4577', 'tom_h@acme.com'),\n",
    "                ('Vina', 'Nguyen', 'Sales', '510-123-4517', 'vina_n@acme.com'),\n",
    "                ('Lee', 'Garr', 'Sales', '510-123-4597', 'lee_g@acme.com')]\n",
    "\n",
    "for employee in employee_list:\n",
    "    insert_rows('employee', \"(first_name, last_name, position, phone, email)\", employee)"
   ]
  },
  {
   "cell_type": "code",
   "execution_count": 64,
   "metadata": {},
   "outputs": [
    {
     "data": {
      "text/plain": [
       "[(1,\n",
       "  'Bob',\n",
       "  'Smith',\n",
       "  'President',\n",
       "  datetime.date(2019, 3, 31),\n",
       "  '510-123-4567',\n",
       "  'bob_smith@acme.com'),\n",
       " (2,\n",
       "  'Jane',\n",
       "  'Smith',\n",
       "  'Vice President',\n",
       "  datetime.date(2019, 3, 31),\n",
       "  '510-123-4537',\n",
       "  'jane_smith@acme.com'),\n",
       " (3,\n",
       "  'Tom',\n",
       "  'Harper',\n",
       "  'Developer',\n",
       "  datetime.date(2019, 3, 31),\n",
       "  '510-123-4577',\n",
       "  'tom_h@acme.com'),\n",
       " (4,\n",
       "  'Vina',\n",
       "  'Nguyen',\n",
       "  'Sales',\n",
       "  datetime.date(2019, 3, 31),\n",
       "  '510-123-4517',\n",
       "  'vina_n@acme.com'),\n",
       " (5,\n",
       "  'Lee',\n",
       "  'Garr',\n",
       "  'Sales',\n",
       "  datetime.date(2019, 3, 31),\n",
       "  '510-123-4597',\n",
       "  'lee_g@acme.com')]"
      ]
     },
     "execution_count": 64,
     "metadata": {},
     "output_type": "execute_result"
    }
   ],
   "source": [
    "cur.execute(\"SELECT * FROM employee\")\n",
    "cur.fetchall()"
   ]
  },
  {
   "cell_type": "markdown",
   "metadata": {},
   "source": [
    "# Whoops. The start_date is wrong for our President and Vice President. Let's update these values"
   ]
  },
  {
   "cell_type": "code",
   "execution_count": 65,
   "metadata": {},
   "outputs": [],
   "source": [
    "def update_row(table_name, col_name, data, condition = None):\n",
    "    \"\"\"table_name = table which to update\n",
    "    col_name = column in which to update the value\n",
    "    data = data which you would like to change the field to\n",
    "    condition = Optional. Conditional requirement with which to query using WHERE clause\"\"\"\n",
    "    \n",
    "    if condition != None:\n",
    "        try:\n",
    "            cur.execute(f\"UPDATE {table_name}\\\n",
    "            SET {col_name} = {data} \\\n",
    "            WHERE {condition};\")\n",
    "        except psycopg2.Error as e:\n",
    "            print(e)\n",
    "            \n",
    "    else:\n",
    "        try:\n",
    "            cur.execute(f\"UPDATE {table_name}\\\n",
    "            SET {col_name} = {data};\")\n",
    "        except psycopg2.Error as e:\n",
    "            print(e)\n",
    "        "
   ]
  },
  {
   "cell_type": "code",
   "execution_count": 66,
   "metadata": {},
   "outputs": [],
   "source": [
    "update_row('employee', 'start_date', \"'2019/01/23'\", \"LAST_NAME = 'Smith'\")"
   ]
  },
  {
   "cell_type": "code",
   "execution_count": 67,
   "metadata": {},
   "outputs": [
    {
     "data": {
      "text/plain": [
       "[(3,\n",
       "  'Tom',\n",
       "  'Harper',\n",
       "  'Developer',\n",
       "  datetime.date(2019, 3, 31),\n",
       "  '510-123-4577',\n",
       "  'tom_h@acme.com'),\n",
       " (4,\n",
       "  'Vina',\n",
       "  'Nguyen',\n",
       "  'Sales',\n",
       "  datetime.date(2019, 3, 31),\n",
       "  '510-123-4517',\n",
       "  'vina_n@acme.com'),\n",
       " (5,\n",
       "  'Lee',\n",
       "  'Garr',\n",
       "  'Sales',\n",
       "  datetime.date(2019, 3, 31),\n",
       "  '510-123-4597',\n",
       "  'lee_g@acme.com'),\n",
       " (1,\n",
       "  'Bob',\n",
       "  'Smith',\n",
       "  'President',\n",
       "  datetime.date(2019, 1, 23),\n",
       "  '510-123-4567',\n",
       "  'bob_smith@acme.com'),\n",
       " (2,\n",
       "  'Jane',\n",
       "  'Smith',\n",
       "  'Vice President',\n",
       "  datetime.date(2019, 1, 23),\n",
       "  '510-123-4537',\n",
       "  'jane_smith@acme.com')]"
      ]
     },
     "execution_count": 67,
     "metadata": {},
     "output_type": "execute_result"
    }
   ],
   "source": [
    "cur.execute(\"SELECT * FROM employee\")\n",
    "cur.fetchall()"
   ]
  },
  {
   "cell_type": "markdown",
   "metadata": {},
   "source": [
    "# Extract sales staff data in order to create our sales_dept table"
   ]
  },
  {
   "cell_type": "code",
   "execution_count": 68,
   "metadata": {},
   "outputs": [
    {
     "data": {
      "text/plain": [
       "[(4,), (5,)]"
      ]
     },
     "execution_count": 68,
     "metadata": {},
     "output_type": "execute_result"
    }
   ],
   "source": [
    "cur.execute(\"SELECT emp_id FROM employee \\\n",
    "WHERE position = 'Sales'\")\n",
    "\n",
    "sales_staff = cur.fetchall()\n",
    "sales_staff"
   ]
  },
  {
   "cell_type": "code",
   "execution_count": 69,
   "metadata": {},
   "outputs": [],
   "source": [
    "sales_cols = {'emp_id' : 'int PRIMARY KEY', 'total_sales': 'int', 'region': 'varchar'}"
   ]
  },
  {
   "cell_type": "code",
   "execution_count": 70,
   "metadata": {},
   "outputs": [],
   "source": [
    "insert_columns('sales_dept', sales_cols)"
   ]
  },
  {
   "cell_type": "code",
   "execution_count": 71,
   "metadata": {},
   "outputs": [
    {
     "data": {
      "text/plain": [
       "[('emp_id', 'integer', None),\n",
       " ('total_sales', 'integer', None),\n",
       " ('region', 'character varying', None)]"
      ]
     },
     "execution_count": 71,
     "metadata": {},
     "output_type": "execute_result"
    }
   ],
   "source": [
    "get_column_names('sales_dept')"
   ]
  },
  {
   "cell_type": "code",
   "execution_count": 72,
   "metadata": {},
   "outputs": [],
   "source": [
    "sales_list = [(4, 10000, 'NW'), (5, 5000, 'SW')]\n",
    "\n",
    "for sales_rep in sales_list:\n",
    "    insert_rows('sales_dept', \"(emp_id, total_sales, region)\", sales_rep)"
   ]
  },
  {
   "cell_type": "code",
   "execution_count": 73,
   "metadata": {},
   "outputs": [
    {
     "data": {
      "text/plain": [
       "[(4, 10000, 'NW'), (5, 5000, 'SW')]"
      ]
     },
     "execution_count": 73,
     "metadata": {},
     "output_type": "execute_result"
    }
   ],
   "source": [
    "cur.execute(\"SELECT * FROM sales_dept\")\n",
    "cur.fetchall()"
   ]
  },
  {
   "cell_type": "markdown",
   "metadata": {},
   "source": [
    "** Fetch employee name and total sales using inner join on employee and sales department **"
   ]
  },
  {
   "cell_type": "code",
   "execution_count": 74,
   "metadata": {},
   "outputs": [],
   "source": [
    "cur.execute(\"SELECT EMPLOYEE.first_name, EMPLOYEE.last_name, SALES_DEPT.total_sales \\\n",
    "FROM employee \\\n",
    "INNER JOIN sales_dept ON sales_dept.emp_id = employee.emp_id\")"
   ]
  },
  {
   "cell_type": "code",
   "execution_count": 75,
   "metadata": {},
   "outputs": [
    {
     "data": {
      "text/plain": [
       "[('Vina', 'Nguyen', 10000), ('Lee', 'Garr', 5000)]"
      ]
     },
     "execution_count": 75,
     "metadata": {},
     "output_type": "execute_result"
    }
   ],
   "source": [
    "cur.fetchall()"
   ]
  },
  {
   "cell_type": "markdown",
   "metadata": {},
   "source": [
    "# Create IT dept table"
   ]
  },
  {
   "cell_type": "code",
   "execution_count": 76,
   "metadata": {},
   "outputs": [
    {
     "data": {
      "text/plain": [
       "[]"
      ]
     },
     "execution_count": 76,
     "metadata": {},
     "output_type": "execute_result"
    }
   ],
   "source": [
    "get_column_names('it_dept')"
   ]
  },
  {
   "cell_type": "code",
   "execution_count": 77,
   "metadata": {},
   "outputs": [
    {
     "data": {
      "text/plain": [
       "[(3,\n",
       "  'Tom',\n",
       "  'Harper',\n",
       "  'Developer',\n",
       "  datetime.date(2019, 3, 31),\n",
       "  '510-123-4577',\n",
       "  'tom_h@acme.com')]"
      ]
     },
     "execution_count": 77,
     "metadata": {},
     "output_type": "execute_result"
    }
   ],
   "source": [
    "cur.execute(\"SELECT * FROM employee WHERE position = 'Developer'\")\n",
    "cur.fetchall()"
   ]
  },
  {
   "cell_type": "code",
   "execution_count": 78,
   "metadata": {},
   "outputs": [],
   "source": [
    "it_cols = {'emp_id' : 'int PRIMARY KEY', 'skills': 'text[]', 'remote': 'bool'}\n",
    "\n",
    "insert_columns('it_dept', it_cols)"
   ]
  },
  {
   "cell_type": "code",
   "execution_count": 79,
   "metadata": {},
   "outputs": [
    {
     "data": {
      "text/plain": [
       "[('emp_id', 'integer', None),\n",
       " ('skills', 'ARRAY', None),\n",
       " ('remote', 'boolean', None)]"
      ]
     },
     "execution_count": 79,
     "metadata": {},
     "output_type": "execute_result"
    }
   ],
   "source": [
    "get_column_names('it_dept')"
   ]
  },
  {
   "cell_type": "code",
   "execution_count": 80,
   "metadata": {},
   "outputs": [],
   "source": [
    "insert_rows('it_dept', \"(emp_id, skills, remote)\", (3, ['Python', 'SQL', 'Javascript'], True))"
   ]
  },
  {
   "cell_type": "code",
   "execution_count": 81,
   "metadata": {},
   "outputs": [
    {
     "data": {
      "text/plain": [
       "[(3, ['Python', 'SQL', 'Javascript'], True)]"
      ]
     },
     "execution_count": 81,
     "metadata": {},
     "output_type": "execute_result"
    }
   ],
   "source": [
    "cur.execute(\"SELECT * FROM it_dept\")\n",
    "cur.fetchall()"
   ]
  },
  {
   "cell_type": "markdown",
   "metadata": {},
   "source": [
    "** Query by individual programming skill set **"
   ]
  },
  {
   "cell_type": "code",
   "execution_count": 82,
   "metadata": {},
   "outputs": [
    {
     "data": {
      "text/plain": [
       "[(3, ['Python', 'SQL', 'Javascript'], True)]"
      ]
     },
     "execution_count": 82,
     "metadata": {},
     "output_type": "execute_result"
    }
   ],
   "source": [
    "cur.execute(\"SELECT * FROM it_dept WHERE 'Python' = ANY(skills)\")\n",
    "cur.fetchall()"
   ]
  },
  {
   "cell_type": "markdown",
   "metadata": {},
   "source": [
    "# Create customers Table"
   ]
  },
  {
   "cell_type": "code",
   "execution_count": 83,
   "metadata": {},
   "outputs": [],
   "source": [
    "cust_columns = {\"cust_id\": \"SERIAL PRIMARY KEY\", \"first_name\": 'varchar', 'last_name': 'varchar', 'sales_man': 'int references sales_dept(emp_id)', 'contact': 'varchar'}\n",
    "\n",
    "insert_columns('customers', cust_columns)"
   ]
  },
  {
   "cell_type": "code",
   "execution_count": 84,
   "metadata": {},
   "outputs": [],
   "source": [
    "customers = [('janet', 'dane', 4, 'janet_dane@gmail.com'), ('Joey', 'Capone', 5, 'joey_capone@gmail.com')]"
   ]
  },
  {
   "cell_type": "code",
   "execution_count": 85,
   "metadata": {},
   "outputs": [],
   "source": [
    "for customer in customers:\n",
    "    insert_rows('customers', \"(first_name, last_name, sales_man, contact)\", customer)"
   ]
  },
  {
   "cell_type": "code",
   "execution_count": 86,
   "metadata": {},
   "outputs": [
    {
     "data": {
      "text/plain": [
       "[(1, 'janet', 'dane', 4, 'janet_dane@gmail.com'),\n",
       " (2, 'Joey', 'Capone', 5, 'joey_capone@gmail.com')]"
      ]
     },
     "execution_count": 86,
     "metadata": {},
     "output_type": "execute_result"
    }
   ],
   "source": [
    "cur.execute(\"SELECT * FROM customers\")\n",
    "cur.fetchall()"
   ]
  },
  {
   "cell_type": "markdown",
   "metadata": {},
   "source": [
    "# CREATE SALES TABLE"
   ]
  },
  {
   "cell_type": "code",
   "execution_count": 87,
   "metadata": {},
   "outputs": [],
   "source": [
    "sales_cols = {'order_id' : 'SERIAL PRIMARY KEY', 'cust_id': 'int references customers(cust_id)', 'purchase_total': 'int',\n",
    "             'total_items': 'int', 'salesman_id': 'int references sales_dept(emp_id)', 'description': \"text[]\" }"
   ]
  },
  {
   "cell_type": "code",
   "execution_count": 88,
   "metadata": {},
   "outputs": [],
   "source": [
    "insert_columns('sales', sales_cols)"
   ]
  },
  {
   "cell_type": "code",
   "execution_count": 89,
   "metadata": {},
   "outputs": [],
   "source": [
    "dummy_sales = [(1, 600, 2, 4, ['GPU', 'monitor']), (2, 1200, 3, 5, ['GPU', 'monitor', 'CPU'])]\n",
    "\n",
    "for sale in dummy_sales:\n",
    "    insert_rows('sales', \"(cust_id, purchase_total, total_items, salesman_id, description)\", sale)"
   ]
  },
  {
   "cell_type": "code",
   "execution_count": 92,
   "metadata": {},
   "outputs": [
    {
     "data": {
      "text/plain": [
       "[('order_id', 'integer', None),\n",
       " ('cust_id', 'integer', None),\n",
       " ('purchase_total', 'integer', None),\n",
       " ('total_items', 'integer', None),\n",
       " ('salesman_id', 'integer', None),\n",
       " ('description', 'ARRAY', None)]"
      ]
     },
     "execution_count": 92,
     "metadata": {},
     "output_type": "execute_result"
    }
   ],
   "source": [
    "get_column_names('sales')"
   ]
  },
  {
   "cell_type": "code",
   "execution_count": 91,
   "metadata": {},
   "outputs": [
    {
     "data": {
      "text/plain": [
       "[(1, 1, 600, 2, 4, ['GPU', 'monitor']),\n",
       " (2, 2, 1200, 3, 5, ['GPU', 'monitor', 'CPU'])]"
      ]
     },
     "execution_count": 91,
     "metadata": {},
     "output_type": "execute_result"
    }
   ],
   "source": [
    "cur.execute(\"SELECT * FROM sales\")\n",
    "cur.fetchall()"
   ]
  },
  {
   "cell_type": "markdown",
   "metadata": {},
   "source": [
    "** Let's query the average purchase total and round to two decimal places**"
   ]
  },
  {
   "cell_type": "code",
   "execution_count": 103,
   "metadata": {},
   "outputs": [
    {
     "data": {
      "text/plain": [
       "[(Decimal('900.00'),)]"
      ]
     },
     "execution_count": 103,
     "metadata": {},
     "output_type": "execute_result"
    }
   ],
   "source": [
    "cur.execute(\"SELECT ROUND(AVG(purchase_total), 2) FROM sales;\")\n",
    "cur.fetchall()"
   ]
  },
  {
   "cell_type": "markdown",
   "metadata": {},
   "source": [
    "** Now we will query all purchase descriptions sold, salesman first and last name associated with purchase and the region from which they work. This will require 2 joins.**"
   ]
  },
  {
   "cell_type": "code",
   "execution_count": 105,
   "metadata": {},
   "outputs": [
    {
     "data": {
      "text/plain": [
       "[(['GPU', 'monitor'], 2, 'NW', 'Vina', 'Nguyen'),\n",
       " (['GPU', 'monitor', 'CPU'], 3, 'SW', 'Lee', 'Garr')]"
      ]
     },
     "execution_count": 105,
     "metadata": {},
     "output_type": "execute_result"
    }
   ],
   "source": [
    "cur.execute(\"SELECT sales.description, sales.total_items, sales_dept.region, \\\n",
    "employee.first_name, employee.last_name FROM SALES \\\n",
    "INNER JOIN sales_dept ON sales.salesman_id = sales_dept.emp_id \\\n",
    "INNER JOIN employee ON sales_dept.emp_id = employee.emp_id\")\n",
    "cur.fetchall()"
   ]
  },
  {
   "cell_type": "markdown",
   "metadata": {},
   "source": [
    "# Create Inventory Table"
   ]
  },
  {
   "cell_type": "code",
   "execution_count": 106,
   "metadata": {},
   "outputs": [],
   "source": [
    "inventory_cols = {\"item_id\": \"SERIAL PRIMARY KEY\", \"item_name\": \"varchar\", \"in_stock\": \"bool\", \"total\": \"int\"}"
   ]
  },
  {
   "cell_type": "code",
   "execution_count": 108,
   "metadata": {},
   "outputs": [],
   "source": [
    "insert_columns(\"inventory\", inventory_cols)"
   ]
  },
  {
   "cell_type": "code",
   "execution_count": 109,
   "metadata": {},
   "outputs": [
    {
     "data": {
      "text/plain": [
       "[('item_id', 'integer', None),\n",
       " ('item_name', 'character varying', None),\n",
       " ('in_stock', 'boolean', None),\n",
       " ('total', 'integer', None)]"
      ]
     },
     "execution_count": 109,
     "metadata": {},
     "output_type": "execute_result"
    }
   ],
   "source": [
    "get_column_names('inventory')"
   ]
  },
  {
   "cell_type": "markdown",
   "metadata": {},
   "source": [
    "** Whoops forgot to add our wholesale price and retail price columns in the inventory. Luckily our function can easily update the table **"
   ]
  },
  {
   "cell_type": "code",
   "execution_count": 110,
   "metadata": {},
   "outputs": [],
   "source": [
    "insert_columns(\"inventory\", {\"wholesale_price\": \"int\", \"retail_price\": \"int\"})"
   ]
  },
  {
   "cell_type": "code",
   "execution_count": 113,
   "metadata": {},
   "outputs": [
    {
     "data": {
      "text/plain": [
       "['item_id',\n",
       " 'item_name',\n",
       " 'in_stock',\n",
       " 'total',\n",
       " 'wholesale_price',\n",
       " 'retail_price']"
      ]
     },
     "execution_count": 113,
     "metadata": {},
     "output_type": "execute_result"
    }
   ],
   "source": [
    "get_column_names('inventory')\n",
    "\n",
    "[i[0] for i in get_column_names('inventory')]"
   ]
  },
  {
   "cell_type": "code",
   "execution_count": 116,
   "metadata": {},
   "outputs": [],
   "source": [
    "dummy_inventory = [('GPU', True, 100, 260, 320), ('CPU', True, 120, 180, 260), ('monitor', True, 88, 120, 160),\n",
    "                  ('Mouse', False, 0, 30, 45)]\n",
    "\n",
    "for item in dummy_inventory:\n",
    "    insert_rows(\"inventory\", \"(item_name, in_stock, total, wholesale_price, retail_price)\", item)"
   ]
  },
  {
   "cell_type": "code",
   "execution_count": 117,
   "metadata": {},
   "outputs": [
    {
     "data": {
      "text/plain": [
       "[(1, 'GPU', True, 100, 260, 320),\n",
       " (2, 'CPU', True, 120, 180, 260),\n",
       " (3, 'monitor', True, 88, 120, 160),\n",
       " (4, 'Mouse', False, 0, 30, 45)]"
      ]
     },
     "execution_count": 117,
     "metadata": {},
     "output_type": "execute_result"
    }
   ],
   "source": [
    "cur.execute(\"SELECT * FROM inventory\")\n",
    "cur.fetchall()"
   ]
  },
  {
   "cell_type": "code",
   "execution_count": null,
   "metadata": {},
   "outputs": [],
   "source": [
    "close_connection()"
   ]
  }
 ],
 "metadata": {
  "kernelspec": {
   "display_name": "Python 3",
   "language": "python",
   "name": "python3"
  },
  "language_info": {
   "codemirror_mode": {
    "name": "ipython",
    "version": 3
   },
   "file_extension": ".py",
   "mimetype": "text/x-python",
   "name": "python",
   "nbconvert_exporter": "python",
   "pygments_lexer": "ipython3",
   "version": "3.6.2"
  }
 },
 "nbformat": 4,
 "nbformat_minor": 2
}
